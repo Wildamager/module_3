{
 "cells": [
  {
   "cell_type": "markdown",
   "metadata": {},
   "source": [
    "# Загрузка Pandas и очистка данных"
   ]
  },
  {
   "cell_type": "code",
   "execution_count": 1311,
   "metadata": {},
   "outputs": [],
   "source": [
    "import pandas as pd\n",
    "import numpy as np\n",
    "from collections import Counter\n",
    "import re\n",
    "import datetime\n",
    "from datetime import datetime\n"
   ]
  },
  {
   "cell_type": "markdown",
   "metadata": {},
   "source": [
    "##### Первоначальная версия датасета состоит из десяти столбцов, содержащих следующую информацию:\n",
    "\n",
    "- Restaurant_id — идентификационный номер ресторана / сети ресторанов;\n",
    "- City — город, в котором находится ресторан;\n",
    "- Cuisine Style — кухня или кухни, к которым можно отнести блюда, предлагаемые в ресторане;\n",
    "- Ranking — место, которое занимает данный ресторан среди всех ресторанов своего города;\n",
    "- Rating — рейтинг ресторана по данным TripAdvisor (именно это значение должна будет предсказывать модель);\n",
    "- Price Range — диапазон цен в ресторане;\n",
    "- Number of Reviews — количество отзывов о ресторане;\n",
    "- Reviews — данные о двух отзывах, которые отображаются на сайте ресторана;\n",
    "- URL_TA — URL страницы ресторана на TripAdvosor;\n",
    "- ID_TA — идентификатор ресторана в базе данных TripAdvisor."
   ]
  },
  {
   "cell_type": "code",
   "execution_count": null,
   "metadata": {},
   "outputs": [],
   "source": []
  },
  {
   "cell_type": "code",
   "execution_count": 1312,
   "metadata": {},
   "outputs": [
    {
     "data": {
      "text/html": [
       "<div>\n",
       "<style scoped>\n",
       "    .dataframe tbody tr th:only-of-type {\n",
       "        vertical-align: middle;\n",
       "    }\n",
       "\n",
       "    .dataframe tbody tr th {\n",
       "        vertical-align: top;\n",
       "    }\n",
       "\n",
       "    .dataframe thead th {\n",
       "        text-align: right;\n",
       "    }\n",
       "</style>\n",
       "<table border=\"1\" class=\"dataframe\">\n",
       "  <thead>\n",
       "    <tr style=\"text-align: right;\">\n",
       "      <th></th>\n",
       "      <th>Restaurant_id</th>\n",
       "      <th>City</th>\n",
       "      <th>Cuisine Style</th>\n",
       "      <th>Ranking</th>\n",
       "      <th>Rating</th>\n",
       "      <th>Price Range</th>\n",
       "      <th>Number of Reviews</th>\n",
       "      <th>Reviews</th>\n",
       "      <th>URL_TA</th>\n",
       "      <th>ID_TA</th>\n",
       "    </tr>\n",
       "  </thead>\n",
       "  <tbody>\n",
       "    <tr>\n",
       "      <td>0</td>\n",
       "      <td>id_5569</td>\n",
       "      <td>Paris</td>\n",
       "      <td>['European', 'French', 'International']</td>\n",
       "      <td>5570.0</td>\n",
       "      <td>3.5</td>\n",
       "      <td>$$ - $$$</td>\n",
       "      <td>194.0</td>\n",
       "      <td>[['Good food at your doorstep', 'A good hotel ...</td>\n",
       "      <td>/Restaurant_Review-g187147-d1912643-Reviews-R_...</td>\n",
       "      <td>d1912643</td>\n",
       "    </tr>\n",
       "    <tr>\n",
       "      <td>1</td>\n",
       "      <td>id_1535</td>\n",
       "      <td>Stockholm</td>\n",
       "      <td>NaN</td>\n",
       "      <td>1537.0</td>\n",
       "      <td>4.0</td>\n",
       "      <td>NaN</td>\n",
       "      <td>10.0</td>\n",
       "      <td>[['Unique cuisine', 'Delicious Nepalese food']...</td>\n",
       "      <td>/Restaurant_Review-g189852-d7992032-Reviews-Bu...</td>\n",
       "      <td>d7992032</td>\n",
       "    </tr>\n",
       "    <tr>\n",
       "      <td>2</td>\n",
       "      <td>id_352</td>\n",
       "      <td>London</td>\n",
       "      <td>['Japanese', 'Sushi', 'Asian', 'Grill', 'Veget...</td>\n",
       "      <td>353.0</td>\n",
       "      <td>4.5</td>\n",
       "      <td>$$$$</td>\n",
       "      <td>688.0</td>\n",
       "      <td>[['Catch up with friends', 'Not exceptional'],...</td>\n",
       "      <td>/Restaurant_Review-g186338-d8632781-Reviews-RO...</td>\n",
       "      <td>d8632781</td>\n",
       "    </tr>\n",
       "    <tr>\n",
       "      <td>3</td>\n",
       "      <td>id_3456</td>\n",
       "      <td>Berlin</td>\n",
       "      <td>NaN</td>\n",
       "      <td>3458.0</td>\n",
       "      <td>5.0</td>\n",
       "      <td>NaN</td>\n",
       "      <td>3.0</td>\n",
       "      <td>[[], []]</td>\n",
       "      <td>/Restaurant_Review-g187323-d1358776-Reviews-Es...</td>\n",
       "      <td>d1358776</td>\n",
       "    </tr>\n",
       "    <tr>\n",
       "      <td>4</td>\n",
       "      <td>id_615</td>\n",
       "      <td>Munich</td>\n",
       "      <td>['German', 'Central European', 'Vegetarian Fri...</td>\n",
       "      <td>621.0</td>\n",
       "      <td>4.0</td>\n",
       "      <td>$$ - $$$</td>\n",
       "      <td>84.0</td>\n",
       "      <td>[['Best place to try a Bavarian food', 'Nice b...</td>\n",
       "      <td>/Restaurant_Review-g187309-d6864963-Reviews-Au...</td>\n",
       "      <td>d6864963</td>\n",
       "    </tr>\n",
       "    <tr>\n",
       "      <td>5</td>\n",
       "      <td>id_1418</td>\n",
       "      <td>Oporto</td>\n",
       "      <td>NaN</td>\n",
       "      <td>1419.0</td>\n",
       "      <td>3.0</td>\n",
       "      <td>NaN</td>\n",
       "      <td>2.0</td>\n",
       "      <td>[['There are better 3 star hotel bars', 'Amazi...</td>\n",
       "      <td>/Restaurant_Review-g189180-d12503536-Reviews-D...</td>\n",
       "      <td>d12503536</td>\n",
       "    </tr>\n",
       "    <tr>\n",
       "      <td>6</td>\n",
       "      <td>id_1720</td>\n",
       "      <td>Milan</td>\n",
       "      <td>['Italian', 'Pizza']</td>\n",
       "      <td>1722.0</td>\n",
       "      <td>4.0</td>\n",
       "      <td>$</td>\n",
       "      <td>50.0</td>\n",
       "      <td>[['Excellent simple local eatery.', 'Excellent...</td>\n",
       "      <td>/Restaurant_Review-g187849-d5808504-Reviews-Pi...</td>\n",
       "      <td>d5808504</td>\n",
       "    </tr>\n",
       "    <tr>\n",
       "      <td>7</td>\n",
       "      <td>id_825</td>\n",
       "      <td>Bratislava</td>\n",
       "      <td>['Italian']</td>\n",
       "      <td>826.0</td>\n",
       "      <td>3.0</td>\n",
       "      <td>NaN</td>\n",
       "      <td>9.0</td>\n",
       "      <td>[['Wasting of money', 'excellent cuisine'], ['...</td>\n",
       "      <td>/Restaurant_Review-g274924-d3199765-Reviews-Ri...</td>\n",
       "      <td>d3199765</td>\n",
       "    </tr>\n",
       "    <tr>\n",
       "      <td>8</td>\n",
       "      <td>id_2690</td>\n",
       "      <td>Vienna</td>\n",
       "      <td>NaN</td>\n",
       "      <td>2692.0</td>\n",
       "      <td>4.0</td>\n",
       "      <td>NaN</td>\n",
       "      <td>NaN</td>\n",
       "      <td>[[], []]</td>\n",
       "      <td>/Restaurant_Review-g190454-d12845029-Reviews-G...</td>\n",
       "      <td>d12845029</td>\n",
       "    </tr>\n",
       "    <tr>\n",
       "      <td>9</td>\n",
       "      <td>id_4209</td>\n",
       "      <td>Rome</td>\n",
       "      <td>['Italian', 'Pizza', 'Fast Food']</td>\n",
       "      <td>4210.0</td>\n",
       "      <td>4.0</td>\n",
       "      <td>$</td>\n",
       "      <td>55.0</td>\n",
       "      <td>[['Clean efficient staff', 'Nice little pizza ...</td>\n",
       "      <td>/Restaurant_Review-g187791-d8020681-Reviews-Qu...</td>\n",
       "      <td>d8020681</td>\n",
       "    </tr>\n",
       "    <tr>\n",
       "      <td>10</td>\n",
       "      <td>id_6578</td>\n",
       "      <td>Barcelona</td>\n",
       "      <td>NaN</td>\n",
       "      <td>6579.0</td>\n",
       "      <td>3.0</td>\n",
       "      <td>NaN</td>\n",
       "      <td>6.0</td>\n",
       "      <td>[[], []]</td>\n",
       "      <td>/Restaurant_Review-g187497-d10696479-Reviews-R...</td>\n",
       "      <td>d10696479</td>\n",
       "    </tr>\n",
       "    <tr>\n",
       "      <td>11</td>\n",
       "      <td>id_5312</td>\n",
       "      <td>London</td>\n",
       "      <td>['Italian', 'Pizza', 'Vegetarian Friendly']</td>\n",
       "      <td>5321.0</td>\n",
       "      <td>4.0</td>\n",
       "      <td>$$ - $$$</td>\n",
       "      <td>42.0</td>\n",
       "      <td>[['Not bad for Canary Wharf', 'To be a pilgrim...</td>\n",
       "      <td>/Restaurant_Review-g186338-d12402429-Reviews-P...</td>\n",
       "      <td>d12402429</td>\n",
       "    </tr>\n",
       "    <tr>\n",
       "      <td>12</td>\n",
       "      <td>id_4066</td>\n",
       "      <td>London</td>\n",
       "      <td>['Italian', 'Pizza', 'Vegetarian Friendly', 'G...</td>\n",
       "      <td>4073.0</td>\n",
       "      <td>3.5</td>\n",
       "      <td>$$ - $$$</td>\n",
       "      <td>286.0</td>\n",
       "      <td>[['Great service, good za', 'Lovely, relaxed a...</td>\n",
       "      <td>/Restaurant_Review-g186338-d2259559-Reviews-Ma...</td>\n",
       "      <td>d2259559</td>\n",
       "    </tr>\n",
       "    <tr>\n",
       "      <td>13</td>\n",
       "      <td>id_4637</td>\n",
       "      <td>Berlin</td>\n",
       "      <td>['Vegetarian Friendly', 'Gluten Free Options']</td>\n",
       "      <td>4639.0</td>\n",
       "      <td>4.5</td>\n",
       "      <td>$$ - $$$</td>\n",
       "      <td>10.0</td>\n",
       "      <td>[['What a great spot!', 'Healthy superfoods, v...</td>\n",
       "      <td>/Restaurant_Review-g187323-d12107166-Reviews-L...</td>\n",
       "      <td>d12107166</td>\n",
       "    </tr>\n",
       "    <tr>\n",
       "      <td>14</td>\n",
       "      <td>id_4773</td>\n",
       "      <td>Madrid</td>\n",
       "      <td>['Mediterranean', 'Spanish', 'Healthy']</td>\n",
       "      <td>4776.0</td>\n",
       "      <td>4.0</td>\n",
       "      <td>$$ - $$$</td>\n",
       "      <td>7.0</td>\n",
       "      <td>[[], []]</td>\n",
       "      <td>/Restaurant_Review-g187514-d10859423-Reviews-B...</td>\n",
       "      <td>d10859423</td>\n",
       "    </tr>\n",
       "    <tr>\n",
       "      <td>15</td>\n",
       "      <td>id_1401</td>\n",
       "      <td>Dublin</td>\n",
       "      <td>['Cafe']</td>\n",
       "      <td>1405.0</td>\n",
       "      <td>4.0</td>\n",
       "      <td>$$ - $$$</td>\n",
       "      <td>28.0</td>\n",
       "      <td>[['Lovely food', 'Great coffee'], ['12/01/2017...</td>\n",
       "      <td>/Restaurant_Review-g186605-d6633059-Reviews-Gr...</td>\n",
       "      <td>d6633059</td>\n",
       "    </tr>\n",
       "    <tr>\n",
       "      <td>16</td>\n",
       "      <td>id_5257</td>\n",
       "      <td>Berlin</td>\n",
       "      <td>['Japanese', 'Asian', 'Thai', 'Vietnamese']</td>\n",
       "      <td>5259.0</td>\n",
       "      <td>4.0</td>\n",
       "      <td>NaN</td>\n",
       "      <td>3.0</td>\n",
       "      <td>[['This is a real hidden Sushi-gem'], ['04/12/...</td>\n",
       "      <td>/Restaurant_Review-g187323-d10266473-Reviews-A...</td>\n",
       "      <td>d10266473</td>\n",
       "    </tr>\n",
       "    <tr>\n",
       "      <td>17</td>\n",
       "      <td>id_11121</td>\n",
       "      <td>London</td>\n",
       "      <td>['Bar', 'Pub']</td>\n",
       "      <td>11131.0</td>\n",
       "      <td>4.5</td>\n",
       "      <td>$$ - $$$</td>\n",
       "      <td>7.0</td>\n",
       "      <td>[['gin tour venue', 'Gin Tour'], ['02/28/2017'...</td>\n",
       "      <td>/Restaurant_Review-g186338-d8659568-Reviews-46...</td>\n",
       "      <td>d8659568</td>\n",
       "    </tr>\n",
       "    <tr>\n",
       "      <td>18</td>\n",
       "      <td>id_3127</td>\n",
       "      <td>Berlin</td>\n",
       "      <td>['German']</td>\n",
       "      <td>3129.0</td>\n",
       "      <td>4.0</td>\n",
       "      <td>$$ - $$$</td>\n",
       "      <td>12.0</td>\n",
       "      <td>[['Nice stay, very good hotel', 'great residen...</td>\n",
       "      <td>/Restaurant_Review-g187323-d3702312-Reviews-Al...</td>\n",
       "      <td>d3702312</td>\n",
       "    </tr>\n",
       "    <tr>\n",
       "      <td>19</td>\n",
       "      <td>id_2791</td>\n",
       "      <td>Brussels</td>\n",
       "      <td>['Chinese']</td>\n",
       "      <td>2792.0</td>\n",
       "      <td>3.0</td>\n",
       "      <td>$$ - $$$</td>\n",
       "      <td>12.0</td>\n",
       "      <td>[['Seriously, is this a restaurant?', 'Not tha...</td>\n",
       "      <td>/Restaurant_Review-g947638-d8155327-Reviews-Ho...</td>\n",
       "      <td>d8155327</td>\n",
       "    </tr>\n",
       "  </tbody>\n",
       "</table>\n",
       "</div>"
      ],
      "text/plain": [
       "   Restaurant_id        City  \\\n",
       "0        id_5569       Paris   \n",
       "1        id_1535   Stockholm   \n",
       "2         id_352      London   \n",
       "3        id_3456      Berlin   \n",
       "4         id_615      Munich   \n",
       "5        id_1418      Oporto   \n",
       "6        id_1720       Milan   \n",
       "7         id_825  Bratislava   \n",
       "8        id_2690      Vienna   \n",
       "9        id_4209        Rome   \n",
       "10       id_6578   Barcelona   \n",
       "11       id_5312      London   \n",
       "12       id_4066      London   \n",
       "13       id_4637      Berlin   \n",
       "14       id_4773      Madrid   \n",
       "15       id_1401      Dublin   \n",
       "16       id_5257      Berlin   \n",
       "17      id_11121      London   \n",
       "18       id_3127      Berlin   \n",
       "19       id_2791    Brussels   \n",
       "\n",
       "                                        Cuisine Style  Ranking  Rating  \\\n",
       "0             ['European', 'French', 'International']   5570.0     3.5   \n",
       "1                                                 NaN   1537.0     4.0   \n",
       "2   ['Japanese', 'Sushi', 'Asian', 'Grill', 'Veget...    353.0     4.5   \n",
       "3                                                 NaN   3458.0     5.0   \n",
       "4   ['German', 'Central European', 'Vegetarian Fri...    621.0     4.0   \n",
       "5                                                 NaN   1419.0     3.0   \n",
       "6                                ['Italian', 'Pizza']   1722.0     4.0   \n",
       "7                                         ['Italian']    826.0     3.0   \n",
       "8                                                 NaN   2692.0     4.0   \n",
       "9                   ['Italian', 'Pizza', 'Fast Food']   4210.0     4.0   \n",
       "10                                                NaN   6579.0     3.0   \n",
       "11        ['Italian', 'Pizza', 'Vegetarian Friendly']   5321.0     4.0   \n",
       "12  ['Italian', 'Pizza', 'Vegetarian Friendly', 'G...   4073.0     3.5   \n",
       "13     ['Vegetarian Friendly', 'Gluten Free Options']   4639.0     4.5   \n",
       "14            ['Mediterranean', 'Spanish', 'Healthy']   4776.0     4.0   \n",
       "15                                           ['Cafe']   1405.0     4.0   \n",
       "16        ['Japanese', 'Asian', 'Thai', 'Vietnamese']   5259.0     4.0   \n",
       "17                                     ['Bar', 'Pub']  11131.0     4.5   \n",
       "18                                         ['German']   3129.0     4.0   \n",
       "19                                        ['Chinese']   2792.0     3.0   \n",
       "\n",
       "   Price Range  Number of Reviews  \\\n",
       "0     $$ - $$$              194.0   \n",
       "1          NaN               10.0   \n",
       "2         $$$$              688.0   \n",
       "3          NaN                3.0   \n",
       "4     $$ - $$$               84.0   \n",
       "5          NaN                2.0   \n",
       "6            $               50.0   \n",
       "7          NaN                9.0   \n",
       "8          NaN                NaN   \n",
       "9            $               55.0   \n",
       "10         NaN                6.0   \n",
       "11    $$ - $$$               42.0   \n",
       "12    $$ - $$$              286.0   \n",
       "13    $$ - $$$               10.0   \n",
       "14    $$ - $$$                7.0   \n",
       "15    $$ - $$$               28.0   \n",
       "16         NaN                3.0   \n",
       "17    $$ - $$$                7.0   \n",
       "18    $$ - $$$               12.0   \n",
       "19    $$ - $$$               12.0   \n",
       "\n",
       "                                              Reviews  \\\n",
       "0   [['Good food at your doorstep', 'A good hotel ...   \n",
       "1   [['Unique cuisine', 'Delicious Nepalese food']...   \n",
       "2   [['Catch up with friends', 'Not exceptional'],...   \n",
       "3                                            [[], []]   \n",
       "4   [['Best place to try a Bavarian food', 'Nice b...   \n",
       "5   [['There are better 3 star hotel bars', 'Amazi...   \n",
       "6   [['Excellent simple local eatery.', 'Excellent...   \n",
       "7   [['Wasting of money', 'excellent cuisine'], ['...   \n",
       "8                                            [[], []]   \n",
       "9   [['Clean efficient staff', 'Nice little pizza ...   \n",
       "10                                           [[], []]   \n",
       "11  [['Not bad for Canary Wharf', 'To be a pilgrim...   \n",
       "12  [['Great service, good za', 'Lovely, relaxed a...   \n",
       "13  [['What a great spot!', 'Healthy superfoods, v...   \n",
       "14                                           [[], []]   \n",
       "15  [['Lovely food', 'Great coffee'], ['12/01/2017...   \n",
       "16  [['This is a real hidden Sushi-gem'], ['04/12/...   \n",
       "17  [['gin tour venue', 'Gin Tour'], ['02/28/2017'...   \n",
       "18  [['Nice stay, very good hotel', 'great residen...   \n",
       "19  [['Seriously, is this a restaurant?', 'Not tha...   \n",
       "\n",
       "                                               URL_TA      ID_TA  \n",
       "0   /Restaurant_Review-g187147-d1912643-Reviews-R_...   d1912643  \n",
       "1   /Restaurant_Review-g189852-d7992032-Reviews-Bu...   d7992032  \n",
       "2   /Restaurant_Review-g186338-d8632781-Reviews-RO...   d8632781  \n",
       "3   /Restaurant_Review-g187323-d1358776-Reviews-Es...   d1358776  \n",
       "4   /Restaurant_Review-g187309-d6864963-Reviews-Au...   d6864963  \n",
       "5   /Restaurant_Review-g189180-d12503536-Reviews-D...  d12503536  \n",
       "6   /Restaurant_Review-g187849-d5808504-Reviews-Pi...   d5808504  \n",
       "7   /Restaurant_Review-g274924-d3199765-Reviews-Ri...   d3199765  \n",
       "8   /Restaurant_Review-g190454-d12845029-Reviews-G...  d12845029  \n",
       "9   /Restaurant_Review-g187791-d8020681-Reviews-Qu...   d8020681  \n",
       "10  /Restaurant_Review-g187497-d10696479-Reviews-R...  d10696479  \n",
       "11  /Restaurant_Review-g186338-d12402429-Reviews-P...  d12402429  \n",
       "12  /Restaurant_Review-g186338-d2259559-Reviews-Ma...   d2259559  \n",
       "13  /Restaurant_Review-g187323-d12107166-Reviews-L...  d12107166  \n",
       "14  /Restaurant_Review-g187514-d10859423-Reviews-B...  d10859423  \n",
       "15  /Restaurant_Review-g186605-d6633059-Reviews-Gr...   d6633059  \n",
       "16  /Restaurant_Review-g187323-d10266473-Reviews-A...  d10266473  \n",
       "17  /Restaurant_Review-g186338-d8659568-Reviews-46...   d8659568  \n",
       "18  /Restaurant_Review-g187323-d3702312-Reviews-Al...   d3702312  \n",
       "19  /Restaurant_Review-g947638-d8155327-Reviews-Ho...   d8155327  "
      ]
     },
     "execution_count": 1312,
     "metadata": {},
     "output_type": "execute_result"
    }
   ],
   "source": [
    "df = pd.read_csv('main_task.xls')\n",
    "df.head(20)"
   ]
  },
  {
   "cell_type": "code",
   "execution_count": 1313,
   "metadata": {},
   "outputs": [
    {
     "data": {
      "text/plain": [
       "'/Restaurant_Review-g186338-d8632781-Reviews-ROKA_Mayfair-London_England.html'"
      ]
     },
     "execution_count": 1313,
     "metadata": {},
     "output_type": "execute_result"
    }
   ],
   "source": [
    "df['URL_TA'][2]"
   ]
  },
  {
   "cell_type": "code",
   "execution_count": 1314,
   "metadata": {},
   "outputs": [
    {
     "data": {
      "text/plain": [
       "False    26114\n",
       "True     13886\n",
       "Name: Price Range, dtype: int64"
      ]
     },
     "execution_count": 1314,
     "metadata": {},
     "output_type": "execute_result"
    }
   ],
   "source": [
    "df['Price Range'].isnull().value_counts()"
   ]
  },
  {
   "cell_type": "code",
   "execution_count": 1315,
   "metadata": {},
   "outputs": [
    {
     "data": {
      "text/plain": [
       "Index(['Restaurant_id', 'City', 'Cuisine Style', 'Ranking', 'Rating',\n",
       "       'Price Range', 'Number of Reviews', 'Reviews', 'URL_TA', 'ID_TA'],\n",
       "      dtype='object')"
      ]
     },
     "execution_count": 1315,
     "metadata": {},
     "output_type": "execute_result"
    }
   ],
   "source": [
    "df.columns"
   ]
  },
  {
   "cell_type": "markdown",
   "metadata": {},
   "source": [
    "На первом этапе удаляем столбцы, чодержащие данные типа object\n"
   ]
  },
  {
   "cell_type": "code",
   "execution_count": 1316,
   "metadata": {},
   "outputs": [],
   "source": [
    "#df=df.drop(['ID_TA','URL_TA','Reviews','Price Range','Cuisine Style', 'City'],axis=1)"
   ]
  },
  {
   "cell_type": "markdown",
   "metadata": {},
   "source": [
    "Теперь заполним пропущенные значения средним арифметическим всего столбца"
   ]
  },
  {
   "cell_type": "code",
   "execution_count": 1317,
   "metadata": {},
   "outputs": [
    {
     "name": "stdout",
     "output_type": "stream",
     "text": [
      "<class 'pandas.core.frame.DataFrame'>\n",
      "RangeIndex: 40000 entries, 0 to 39999\n",
      "Data columns (total 10 columns):\n",
      "Restaurant_id        40000 non-null object\n",
      "City                 40000 non-null object\n",
      "Cuisine Style        30717 non-null object\n",
      "Ranking              40000 non-null float64\n",
      "Rating               40000 non-null float64\n",
      "Price Range          26114 non-null object\n",
      "Number of Reviews    37457 non-null float64\n",
      "Reviews              40000 non-null object\n",
      "URL_TA               40000 non-null object\n",
      "ID_TA                40000 non-null object\n",
      "dtypes: float64(3), object(7)\n",
      "memory usage: 3.1+ MB\n"
     ]
    }
   ],
   "source": [
    "df.info()"
   ]
  },
  {
   "cell_type": "code",
   "execution_count": 1318,
   "metadata": {},
   "outputs": [],
   "source": [
    "#df['Number of Reviews']=df['Number of Reviews'].fillna(df['Number of Reviews'].mean())"
   ]
  },
  {
   "cell_type": "markdown",
   "metadata": {},
   "source": [
    "Исходя из выше выведенной информации, можно заметить, что пропуски содержат лишь колонки Cuisine Style, Price Range, Number of Reviews\n",
    "\n",
    "В столбцах Ranking, Rating и Number of Reviews  данные хранятся в числовом формате\n",
    "\n",
    "Нет стобцов, где данные хранились бы  в списках"
   ]
  },
  {
   "cell_type": "code",
   "execution_count": 1319,
   "metadata": {},
   "outputs": [
    {
     "data": {
      "text/plain": [
       "$$ - $$$    18412\n",
       "$            6279\n",
       "$$$$         1423\n",
       "Name: Price Range, dtype: int64"
      ]
     },
     "execution_count": 1319,
     "metadata": {},
     "output_type": "execute_result"
    }
   ],
   "source": [
    "df['Price Range'].value_counts()"
   ]
  },
  {
   "cell_type": "code",
   "execution_count": 1320,
   "metadata": {},
   "outputs": [
    {
     "data": {
      "text/plain": [
       "31"
      ]
     },
     "execution_count": 1320,
     "metadata": {},
     "output_type": "execute_result"
    }
   ],
   "source": [
    "len(df['City'].unique())"
   ]
  },
  {
   "cell_type": "code",
   "execution_count": 1321,
   "metadata": {},
   "outputs": [
    {
     "data": {
      "text/plain": [
       "104896"
      ]
     },
     "execution_count": 1321,
     "metadata": {},
     "output_type": "execute_result"
    }
   ],
   "source": [
    "kitchen_count=[]\n",
    "kitchen=[]\n",
    "for i in df['Cuisine Style'].fillna('lol'):\n",
    "    l =i[1:-1].replace(\"'\",'').split(', ')\n",
    "    kitchen_count.append(len(l))\n",
    "    for inf in l:\n",
    "        kitchen.append(inf)\n",
    "maxcount=max(Counter(kitchen),key=Counter(kitchen).get)\n",
    "len(kitchen)"
   ]
  },
  {
   "cell_type": "markdown",
   "metadata": {},
   "source": [
    "Избавимся от пропусков в столбце Cuisine Style, оставляя на их месте кухню, которая представлена в наибольшем количестве ресторанов"
   ]
  },
  {
   "cell_type": "code",
   "execution_count": 1322,
   "metadata": {},
   "outputs": [
    {
     "name": "stderr",
     "output_type": "stream",
     "text": [
      "C:\\Users\\USER\\Anaconda3\\lib\\site-packages\\pandas\\core\\indexing.py:205: SettingWithCopyWarning: \n",
      "A value is trying to be set on a copy of a slice from a DataFrame\n",
      "\n",
      "See the caveats in the documentation: http://pandas.pydata.org/pandas-docs/stable/user_guide/indexing.html#returning-a-view-versus-a-copy\n",
      "  self._setitem_with_indexer(indexer, value)\n"
     ]
    }
   ],
   "source": [
    "for index,info in enumerate(df['Cuisine Style'].isnull()):\n",
    "    if info==True:\n",
    "        df['Cuisine Style'].iloc[index]=maxcount\n",
    "    "
   ]
  },
  {
   "cell_type": "markdown",
   "metadata": {},
   "source": [
    "Добавим столбец с количествои типов кухонь\n"
   ]
  },
  {
   "cell_type": "code",
   "execution_count": 1323,
   "metadata": {},
   "outputs": [],
   "source": [
    "df['Count of Cuisine Style']=kitchen_count"
   ]
  },
  {
   "cell_type": "code",
   "execution_count": 1324,
   "metadata": {},
   "outputs": [
    {
     "data": {
      "text/plain": [
       "3207"
      ]
     },
     "execution_count": 1324,
     "metadata": {},
     "output_type": "execute_result"
    }
   ],
   "source": [
    "date=[]\n",
    "date_count=[]\n",
    "for a in df['Reviews']:\n",
    "    date.append(re.findall('\\d\\d/\\d\\d/\\d{4}',a))\n",
    "for inf in date:\n",
    "        for index,i in enumerate(inf):\n",
    "            inf[index]=datetime.strptime(i, \"%m/%d/%Y\")\n",
    "for il in date:\n",
    "    if len(il)==2:\n",
    "        delta=max(il)-min(il)\n",
    "        date_count.append(delta.days)\n",
    "    else:\n",
    "        date_count.append(0)\n",
    "max(date_count)"
   ]
  },
  {
   "cell_type": "markdown",
   "metadata": {},
   "source": [
    "Добавим столбец с количеством дней между двумя выложенными комментариями Date_Count"
   ]
  },
  {
   "cell_type": "code",
   "execution_count": 1325,
   "metadata": {},
   "outputs": [],
   "source": [
    "df['Date_Count']=date_count"
   ]
  },
  {
   "cell_type": "markdown",
   "metadata": {},
   "source": [
    "Добавим столбец с разницей в днях между выставленным комментарием и сегодняшним днем Date_Count_Today"
   ]
  },
  {
   "cell_type": "code",
   "execution_count": 1326,
   "metadata": {},
   "outputs": [],
   "source": [
    "date_today=[]\n",
    "for i in date:\n",
    "    if len(i)==0:\n",
    "        date_today.append(0)\n",
    "    elif len(i)==1:\n",
    "        date_today.append((datetime.today()-i[0]).days)\n",
    "    else:\n",
    "        date_today.append((datetime.today()-max(i)).days)\n",
    "len(date_today)\n",
    "df['Date_Count_Today']=date_today"
   ]
  },
  {
   "cell_type": "markdown",
   "metadata": {},
   "source": [
    "Избавимся от прорусков в столбце Number of Reviews, заполнис их средним количеством"
   ]
  },
  {
   "cell_type": "code",
   "execution_count": 1327,
   "metadata": {},
   "outputs": [],
   "source": [
    "mean_number=df['Number of Reviews'].mean()\n",
    "for index,i in enumerate(df['Number of Reviews'].isnull()):\n",
    "    if i==True:\n",
    "        df['Number of Reviews'].iloc[index]=mean_number\n",
    "    else:\n",
    "        continue"
   ]
  },
  {
   "cell_type": "markdown",
   "metadata": {},
   "source": [
    "Избавимся от пропусков в столбце Price Range. Найдем отсутствующую информацию на сайте ресторана и занесем ее в таблицу\n"
   ]
  },
  {
   "cell_type": "code",
   "execution_count": 1328,
   "metadata": {},
   "outputs": [],
   "source": [
    "max_countvalue=df['Price Range'].value_counts().index[0]\n",
    "\n",
    "for index,info in enumerate(df['Price Range'].isnull()):\n",
    "    if info==True:\n",
    "        #Если информация по цене отсутствуем ,то пропуск заполним часто встречающимся значением столбца\n",
    "        df['Price Range'].iloc[index]=max_countvalue\n",
    "    else:\n",
    "        continue"
   ]
  },
  {
   "cell_type": "markdown",
   "metadata": {},
   "source": [
    "Добавим еще один столбец с информацией о населении города.Так или  иначе данный показатель влияет на рейтинг,посещаемость ресторана"
   ]
  },
  {
   "cell_type": "code",
   "execution_count": 1329,
   "metadata": {},
   "outputs": [],
   "source": [
    "City_population={'London':8908081,\n",
    "                'Paris':2148327,\n",
    "                'Madrid':3266126,\n",
    "                'Barcelona':1636762,\n",
    "                'Berlin':3644826,\n",
    "                 'Milan':1366180,\n",
    "                 'Rome':2870500, \n",
    "                 'Prague':1324277,\n",
    "                 'Lisbon':506654,\n",
    "                 'Vienna':1897491,\n",
    "                 'Amsterdam':860124,\n",
    "                 'Brussels':185103,\n",
    "                 'Hamburg':1841179,\n",
    "                 'Munich':1571508,\n",
    "                 'Lyon':516092,   \n",
    "                 'Stockholm':975904,\n",
    "                 'Budapest':1752286,\n",
    "                 'Warsaw':1790658,\n",
    "                 'Dublin':1173179,\n",
    "                 'Copenhagen':794128,\n",
    "                 'Athens':664046,  \n",
    "                 'Edinburgh':513210,\n",
    "                 'Zurich':434008, \n",
    "                 'Oporto':237591,  \n",
    "                 'Geneva':201818,  \n",
    "                 'Krakow':779115,  \n",
    "                 'Oslo':693494,    \n",
    "                 'Helsinki':643272,\n",
    "                 'Bratislava':437725,\n",
    "                 'Luxembourg':626108,\n",
    "                 'Ljubljana':284355}"
   ]
  },
  {
   "cell_type": "code",
   "execution_count": 1330,
   "metadata": {},
   "outputs": [],
   "source": [
    "CP=[]\n",
    "for i in df['City']:\n",
    "    CP.append(City_population[i])\n",
    "df['City_Population']=CP"
   ]
  },
  {
   "cell_type": "markdown",
   "metadata": {},
   "source": [
    "Добавим еще один признак с информацией о ср. зараплатной плате за год в городах "
   ]
  },
  {
   "cell_type": "code",
   "execution_count": 1331,
   "metadata": {},
   "outputs": [],
   "source": [
    "City_mean_salary={'London':3589075,\n",
    "                'Paris':5001933,\n",
    "                'Madrid':1778465,\n",
    "                'Barcelona':2223081,\n",
    "                'Berlin':1920000,\n",
    "                 'Milan':1831819,\n",
    "                 'Rome':1831819, \n",
    "                 'Prague':1222694,\n",
    "                 'Lisbon':1778465,\n",
    "                 'Vienna':3076744,\n",
    "                 'Amsterdam':3223468,\n",
    "                 'Brussels':4343901,\n",
    "                 'Hamburg':4191620,\n",
    "                 'Munich':2462062,\n",
    "                 'Lyon':4018932,   \n",
    "                 'Stockholm':2223081,\n",
    "                 'Budapest':1050406,\n",
    "                 'Warsaw':1111540,\n",
    "                 'Dublin':3056737,\n",
    "                 'Copenhagen':3445776,\n",
    "                 'Athens':778078,  \n",
    "                 'Edinburgh':3856560,\n",
    "                 'Zurich':6117048, \n",
    "                 'Oporto':1333848,  \n",
    "                 'Geneva':4112700,  \n",
    "                 'Krakow':5508796,  \n",
    "                 'Oslo':3331956,    \n",
    "                 'Helsinki':2778852,\n",
    "                 'Bratislava':1412768,\n",
    "                 'Luxembourg':4546201,\n",
    "                 'Ljubljana':1222694}"
   ]
  },
  {
   "cell_type": "code",
   "execution_count": 1332,
   "metadata": {},
   "outputs": [],
   "source": [
    "CMC=[]\n",
    "for i in df['City']:\n",
    "    CMC.append(City_mean_salary[i])\n",
    "df['City Mean Salary of year']=CMC"
   ]
  },
  {
   "cell_type": "code",
   "execution_count": 1333,
   "metadata": {},
   "outputs": [
    {
     "data": {
      "text/html": [
       "<div>\n",
       "<style scoped>\n",
       "    .dataframe tbody tr th:only-of-type {\n",
       "        vertical-align: middle;\n",
       "    }\n",
       "\n",
       "    .dataframe tbody tr th {\n",
       "        vertical-align: top;\n",
       "    }\n",
       "\n",
       "    .dataframe thead th {\n",
       "        text-align: right;\n",
       "    }\n",
       "</style>\n",
       "<table border=\"1\" class=\"dataframe\">\n",
       "  <thead>\n",
       "    <tr style=\"text-align: right;\">\n",
       "      <th></th>\n",
       "      <th>Restaurant_id</th>\n",
       "      <th>City</th>\n",
       "      <th>Cuisine Style</th>\n",
       "      <th>Ranking</th>\n",
       "      <th>Rating</th>\n",
       "      <th>Price Range</th>\n",
       "      <th>Number of Reviews</th>\n",
       "      <th>Reviews</th>\n",
       "      <th>URL_TA</th>\n",
       "      <th>ID_TA</th>\n",
       "      <th>Count of Cuisine Style</th>\n",
       "      <th>Date_Count</th>\n",
       "      <th>Date_Count_Today</th>\n",
       "      <th>City_Population</th>\n",
       "      <th>City Mean Salary of year</th>\n",
       "    </tr>\n",
       "  </thead>\n",
       "  <tbody>\n",
       "    <tr>\n",
       "      <td>0</td>\n",
       "      <td>id_5569</td>\n",
       "      <td>Paris</td>\n",
       "      <td>['European', 'French', 'International']</td>\n",
       "      <td>5570.0</td>\n",
       "      <td>3.5</td>\n",
       "      <td>$$ - $$$</td>\n",
       "      <td>194.0</td>\n",
       "      <td>[['Good food at your doorstep', 'A good hotel ...</td>\n",
       "      <td>/Restaurant_Review-g187147-d1912643-Reviews-R_...</td>\n",
       "      <td>d1912643</td>\n",
       "      <td>3</td>\n",
       "      <td>41</td>\n",
       "      <td>1036</td>\n",
       "      <td>2148327</td>\n",
       "      <td>5001933</td>\n",
       "    </tr>\n",
       "    <tr>\n",
       "      <td>1</td>\n",
       "      <td>id_1535</td>\n",
       "      <td>Stockholm</td>\n",
       "      <td>Vegetarian Friendly</td>\n",
       "      <td>1537.0</td>\n",
       "      <td>4.0</td>\n",
       "      <td>$$ - $$$</td>\n",
       "      <td>10.0</td>\n",
       "      <td>[['Unique cuisine', 'Delicious Nepalese food']...</td>\n",
       "      <td>/Restaurant_Review-g189852-d7992032-Reviews-Bu...</td>\n",
       "      <td>d7992032</td>\n",
       "      <td>1</td>\n",
       "      <td>382</td>\n",
       "      <td>1214</td>\n",
       "      <td>975904</td>\n",
       "      <td>2223081</td>\n",
       "    </tr>\n",
       "    <tr>\n",
       "      <td>2</td>\n",
       "      <td>id_352</td>\n",
       "      <td>London</td>\n",
       "      <td>['Japanese', 'Sushi', 'Asian', 'Grill', 'Veget...</td>\n",
       "      <td>353.0</td>\n",
       "      <td>4.5</td>\n",
       "      <td>$$$$</td>\n",
       "      <td>688.0</td>\n",
       "      <td>[['Catch up with friends', 'Not exceptional'],...</td>\n",
       "      <td>/Restaurant_Review-g186338-d8632781-Reviews-RO...</td>\n",
       "      <td>d8632781</td>\n",
       "      <td>7</td>\n",
       "      <td>2</td>\n",
       "      <td>1028</td>\n",
       "      <td>8908081</td>\n",
       "      <td>3589075</td>\n",
       "    </tr>\n",
       "    <tr>\n",
       "      <td>3</td>\n",
       "      <td>id_3456</td>\n",
       "      <td>Berlin</td>\n",
       "      <td>Vegetarian Friendly</td>\n",
       "      <td>3458.0</td>\n",
       "      <td>5.0</td>\n",
       "      <td>$$ - $$$</td>\n",
       "      <td>3.0</td>\n",
       "      <td>[[], []]</td>\n",
       "      <td>/Restaurant_Review-g187323-d1358776-Reviews-Es...</td>\n",
       "      <td>d1358776</td>\n",
       "      <td>1</td>\n",
       "      <td>0</td>\n",
       "      <td>0</td>\n",
       "      <td>3644826</td>\n",
       "      <td>1920000</td>\n",
       "    </tr>\n",
       "    <tr>\n",
       "      <td>4</td>\n",
       "      <td>id_615</td>\n",
       "      <td>Munich</td>\n",
       "      <td>['German', 'Central European', 'Vegetarian Fri...</td>\n",
       "      <td>621.0</td>\n",
       "      <td>4.0</td>\n",
       "      <td>$$ - $$$</td>\n",
       "      <td>84.0</td>\n",
       "      <td>[['Best place to try a Bavarian food', 'Nice b...</td>\n",
       "      <td>/Restaurant_Review-g187309-d6864963-Reviews-Au...</td>\n",
       "      <td>d6864963</td>\n",
       "      <td>3</td>\n",
       "      <td>272</td>\n",
       "      <td>1079</td>\n",
       "      <td>1571508</td>\n",
       "      <td>2462062</td>\n",
       "    </tr>\n",
       "    <tr>\n",
       "      <td>...</td>\n",
       "      <td>...</td>\n",
       "      <td>...</td>\n",
       "      <td>...</td>\n",
       "      <td>...</td>\n",
       "      <td>...</td>\n",
       "      <td>...</td>\n",
       "      <td>...</td>\n",
       "      <td>...</td>\n",
       "      <td>...</td>\n",
       "      <td>...</td>\n",
       "      <td>...</td>\n",
       "      <td>...</td>\n",
       "      <td>...</td>\n",
       "      <td>...</td>\n",
       "      <td>...</td>\n",
       "    </tr>\n",
       "    <tr>\n",
       "      <td>39995</td>\n",
       "      <td>id_499</td>\n",
       "      <td>Milan</td>\n",
       "      <td>['Italian', 'Vegetarian Friendly', 'Vegan Opti...</td>\n",
       "      <td>500.0</td>\n",
       "      <td>4.5</td>\n",
       "      <td>$$ - $$$</td>\n",
       "      <td>79.0</td>\n",
       "      <td>[['The real Italian experience!', 'Wonderful f...</td>\n",
       "      <td>/Restaurant_Review-g187849-d2104414-Reviews-Ro...</td>\n",
       "      <td>d2104414</td>\n",
       "      <td>4</td>\n",
       "      <td>34</td>\n",
       "      <td>1051</td>\n",
       "      <td>1366180</td>\n",
       "      <td>1831819</td>\n",
       "    </tr>\n",
       "    <tr>\n",
       "      <td>39996</td>\n",
       "      <td>id_6340</td>\n",
       "      <td>Paris</td>\n",
       "      <td>['French', 'American', 'Bar', 'European', 'Veg...</td>\n",
       "      <td>6341.0</td>\n",
       "      <td>3.5</td>\n",
       "      <td>$$ - $$$</td>\n",
       "      <td>542.0</td>\n",
       "      <td>[['Parisian atmosphere', 'Bit pricey but inter...</td>\n",
       "      <td>/Restaurant_Review-g187147-d1800036-Reviews-La...</td>\n",
       "      <td>d1800036</td>\n",
       "      <td>5</td>\n",
       "      <td>9</td>\n",
       "      <td>1046</td>\n",
       "      <td>2148327</td>\n",
       "      <td>5001933</td>\n",
       "    </tr>\n",
       "    <tr>\n",
       "      <td>39997</td>\n",
       "      <td>id_1649</td>\n",
       "      <td>Stockholm</td>\n",
       "      <td>['Japanese', 'Sushi']</td>\n",
       "      <td>1652.0</td>\n",
       "      <td>4.5</td>\n",
       "      <td>$$ - $$$</td>\n",
       "      <td>4.0</td>\n",
       "      <td>[['Good by swedish standards', 'A hidden jewel...</td>\n",
       "      <td>/Restaurant_Review-g189852-d947615-Reviews-Sus...</td>\n",
       "      <td>d947615</td>\n",
       "      <td>2</td>\n",
       "      <td>3127</td>\n",
       "      <td>1459</td>\n",
       "      <td>975904</td>\n",
       "      <td>2223081</td>\n",
       "    </tr>\n",
       "    <tr>\n",
       "      <td>39998</td>\n",
       "      <td>id_640</td>\n",
       "      <td>Warsaw</td>\n",
       "      <td>['Polish', 'European', 'Eastern European', 'Ce...</td>\n",
       "      <td>641.0</td>\n",
       "      <td>4.0</td>\n",
       "      <td>$$ - $$$</td>\n",
       "      <td>70.0</td>\n",
       "      <td>[['Underground restaurant', 'Oldest Restaurant...</td>\n",
       "      <td>/Restaurant_Review-g274856-d1100838-Reviews-Ho...</td>\n",
       "      <td>d1100838</td>\n",
       "      <td>5</td>\n",
       "      <td>23</td>\n",
       "      <td>1209</td>\n",
       "      <td>1790658</td>\n",
       "      <td>1111540</td>\n",
       "    </tr>\n",
       "    <tr>\n",
       "      <td>39999</td>\n",
       "      <td>id_4824</td>\n",
       "      <td>Milan</td>\n",
       "      <td>['Spanish']</td>\n",
       "      <td>4827.0</td>\n",
       "      <td>3.0</td>\n",
       "      <td>$$ - $$$</td>\n",
       "      <td>260.0</td>\n",
       "      <td>[['Average', 'Nice an informal'], ['01/31/2016...</td>\n",
       "      <td>/Restaurant_Review-g187849-d1109020-Reviews-Ta...</td>\n",
       "      <td>d1109020</td>\n",
       "      <td>1</td>\n",
       "      <td>1306</td>\n",
       "      <td>1736</td>\n",
       "      <td>1366180</td>\n",
       "      <td>1831819</td>\n",
       "    </tr>\n",
       "  </tbody>\n",
       "</table>\n",
       "<p>40000 rows × 15 columns</p>\n",
       "</div>"
      ],
      "text/plain": [
       "      Restaurant_id       City  \\\n",
       "0           id_5569      Paris   \n",
       "1           id_1535  Stockholm   \n",
       "2            id_352     London   \n",
       "3           id_3456     Berlin   \n",
       "4            id_615     Munich   \n",
       "...             ...        ...   \n",
       "39995        id_499      Milan   \n",
       "39996       id_6340      Paris   \n",
       "39997       id_1649  Stockholm   \n",
       "39998        id_640     Warsaw   \n",
       "39999       id_4824      Milan   \n",
       "\n",
       "                                           Cuisine Style  Ranking  Rating  \\\n",
       "0                ['European', 'French', 'International']   5570.0     3.5   \n",
       "1                                    Vegetarian Friendly   1537.0     4.0   \n",
       "2      ['Japanese', 'Sushi', 'Asian', 'Grill', 'Veget...    353.0     4.5   \n",
       "3                                    Vegetarian Friendly   3458.0     5.0   \n",
       "4      ['German', 'Central European', 'Vegetarian Fri...    621.0     4.0   \n",
       "...                                                  ...      ...     ...   \n",
       "39995  ['Italian', 'Vegetarian Friendly', 'Vegan Opti...    500.0     4.5   \n",
       "39996  ['French', 'American', 'Bar', 'European', 'Veg...   6341.0     3.5   \n",
       "39997                              ['Japanese', 'Sushi']   1652.0     4.5   \n",
       "39998  ['Polish', 'European', 'Eastern European', 'Ce...    641.0     4.0   \n",
       "39999                                        ['Spanish']   4827.0     3.0   \n",
       "\n",
       "      Price Range  Number of Reviews  \\\n",
       "0        $$ - $$$              194.0   \n",
       "1        $$ - $$$               10.0   \n",
       "2            $$$$              688.0   \n",
       "3        $$ - $$$                3.0   \n",
       "4        $$ - $$$               84.0   \n",
       "...           ...                ...   \n",
       "39995    $$ - $$$               79.0   \n",
       "39996    $$ - $$$              542.0   \n",
       "39997    $$ - $$$                4.0   \n",
       "39998    $$ - $$$               70.0   \n",
       "39999    $$ - $$$              260.0   \n",
       "\n",
       "                                                 Reviews  \\\n",
       "0      [['Good food at your doorstep', 'A good hotel ...   \n",
       "1      [['Unique cuisine', 'Delicious Nepalese food']...   \n",
       "2      [['Catch up with friends', 'Not exceptional'],...   \n",
       "3                                               [[], []]   \n",
       "4      [['Best place to try a Bavarian food', 'Nice b...   \n",
       "...                                                  ...   \n",
       "39995  [['The real Italian experience!', 'Wonderful f...   \n",
       "39996  [['Parisian atmosphere', 'Bit pricey but inter...   \n",
       "39997  [['Good by swedish standards', 'A hidden jewel...   \n",
       "39998  [['Underground restaurant', 'Oldest Restaurant...   \n",
       "39999  [['Average', 'Nice an informal'], ['01/31/2016...   \n",
       "\n",
       "                                                  URL_TA     ID_TA  \\\n",
       "0      /Restaurant_Review-g187147-d1912643-Reviews-R_...  d1912643   \n",
       "1      /Restaurant_Review-g189852-d7992032-Reviews-Bu...  d7992032   \n",
       "2      /Restaurant_Review-g186338-d8632781-Reviews-RO...  d8632781   \n",
       "3      /Restaurant_Review-g187323-d1358776-Reviews-Es...  d1358776   \n",
       "4      /Restaurant_Review-g187309-d6864963-Reviews-Au...  d6864963   \n",
       "...                                                  ...       ...   \n",
       "39995  /Restaurant_Review-g187849-d2104414-Reviews-Ro...  d2104414   \n",
       "39996  /Restaurant_Review-g187147-d1800036-Reviews-La...  d1800036   \n",
       "39997  /Restaurant_Review-g189852-d947615-Reviews-Sus...   d947615   \n",
       "39998  /Restaurant_Review-g274856-d1100838-Reviews-Ho...  d1100838   \n",
       "39999  /Restaurant_Review-g187849-d1109020-Reviews-Ta...  d1109020   \n",
       "\n",
       "       Count of Cuisine Style  Date_Count  Date_Count_Today  City_Population  \\\n",
       "0                           3          41              1036          2148327   \n",
       "1                           1         382              1214           975904   \n",
       "2                           7           2              1028          8908081   \n",
       "3                           1           0                 0          3644826   \n",
       "4                           3         272              1079          1571508   \n",
       "...                       ...         ...               ...              ...   \n",
       "39995                       4          34              1051          1366180   \n",
       "39996                       5           9              1046          2148327   \n",
       "39997                       2        3127              1459           975904   \n",
       "39998                       5          23              1209          1790658   \n",
       "39999                       1        1306              1736          1366180   \n",
       "\n",
       "       City Mean Salary of year  \n",
       "0                       5001933  \n",
       "1                       2223081  \n",
       "2                       3589075  \n",
       "3                       1920000  \n",
       "4                       2462062  \n",
       "...                         ...  \n",
       "39995                   1831819  \n",
       "39996                   5001933  \n",
       "39997                   2223081  \n",
       "39998                   1111540  \n",
       "39999                   1831819  \n",
       "\n",
       "[40000 rows x 15 columns]"
      ]
     },
     "execution_count": 1333,
     "metadata": {},
     "output_type": "execute_result"
    }
   ],
   "source": [
    "df"
   ]
  },
  {
   "cell_type": "markdown",
   "metadata": {},
   "source": [
    "Создадим dummy variables"
   ]
  },
  {
   "cell_type": "code",
   "execution_count": 1334,
   "metadata": {},
   "outputs": [],
   "source": [
    "from sklearn.preprocessing import PolynomialFeatures"
   ]
  },
  {
   "cell_type": "code",
   "execution_count": 1335,
   "metadata": {},
   "outputs": [],
   "source": [
    "df=pd.merge(df, pd.get_dummies(df.City), left_index=True, right_index=True)"
   ]
  },
  {
   "cell_type": "code",
   "execution_count": 1336,
   "metadata": {},
   "outputs": [],
   "source": [
    "data=pd.get_dummies(df['Price Range'])\n",
    "data.columns=['Price Range Low','Price Range Average','Price Range High']\n",
    "df=pd.merge(df, data, left_index=True, right_index=True)"
   ]
  },
  {
   "cell_type": "markdown",
   "metadata": {},
   "source": [
    "Добавим столбец с информацией о безработице в стране"
   ]
  },
  {
   "cell_type": "code",
   "execution_count": 1337,
   "metadata": {},
   "outputs": [],
   "source": [
    "unemployment={'London':3.85,#\n",
    "                'Paris':8.43,#Франция\n",
    "                'Madrid':13.96,#Испания\n",
    "                'Barcelona':13.96,#Испания\n",
    "                'Berlin':3.04,#Германия\n",
    "                 'Milan':9.89,#Италия\n",
    "                 'Rome':9.89, #Италия\n",
    "                 'Prague':1.93,#Чехия\n",
    "                 'Lisbon':6.33,#Португалия\n",
    "                 'Vienna':4.67,#Австрия\n",
    "                 'Amsterdam':3.2,#Нидерланды\n",
    "                 'Brussels':5.59,#Бельгия\n",
    "                 'Hamburg':3.04,#Германия\n",
    "                 'Munich':3.04,#Германия\n",
    "                 'Lyon':8.43,   #Франция\n",
    "                 'Stockholm':6.48,#Швеция\n",
    "                 'Budapest':3.4,#Венгия\n",
    "                 'Warsaw':3.47,#Польша\n",
    "                 'Dublin':4.93,#Ирландия\n",
    "                 'Copenhagen':4.91,#Дания\n",
    "                 'Athens':17.24,  #Греция\n",
    "                 'Edinburgh':4.6,#Шотландия\n",
    "                 'Zurich':4.58, #Швейцария\n",
    "                 'Oporto':6.33,  #Португалия\n",
    "                 'Geneva':4.58,  #Швейцария\n",
    "                 'Krakow':3.47,  #Польша\n",
    "                 'Oslo':3.35,    #Норвегия\n",
    "                 'Helsinki':6.59,#Финляндия\n",
    "                 'Bratislava':5.56,#Словакия\n",
    "                 'Luxembourg':5.36,#\n",
    "                 'Ljubljana':4.2}#Словения"
   ]
  },
  {
   "cell_type": "code",
   "execution_count": 1338,
   "metadata": {},
   "outputs": [],
   "source": [
    "U=[]\n",
    "for i in df['City']:\n",
    "    U.append(unemployment[i])\n",
    "df['Country Unemployment']=U"
   ]
  },
  {
   "cell_type": "markdown",
   "metadata": {},
   "source": [
    "Добавим столбец с информацией по турпотоку в ту или иную страну"
   ]
  },
  {
   "cell_type": "code",
   "execution_count": 1339,
   "metadata": {},
   "outputs": [],
   "source": [
    "country_tourism={'London':37.6,#\n",
    "                'Paris':86.9,#Франция\n",
    "                'Madrid':81.7,#Испания\n",
    "                'Barcelona':81.7,#Испания\n",
    "                'Berlin':37.4,#Германия\n",
    "                 'Milan':58.2,#Италия\n",
    "                 'Rome':58.2, #Италия\n",
    "                 'Prague':13.665,#Чехия\n",
    "                 'Lisbon':22.8,#Португалия\n",
    "                 'Vienna':29.4,#Австрия\n",
    "                 'Amsterdam':15.867,#Нидерланды\n",
    "                 'Brussels':9.154,#Бельгия\n",
    "                 'Hamburg':37.4,#Германия\n",
    "                 'Munich':37.4,#Германия\n",
    "                 'Lyon':86.9,   #Франция\n",
    "                 'Stockholm':7.054,#Швеция\n",
    "                 'Budapest':17.152,#Венгия\n",
    "                 'Warsaw':18.4,#Польша\n",
    "                 'Dublin':10.338,#Ирландия\n",
    "                 'Copenhagen':11.743,#Дания\n",
    "                 'Athens':27.1,  #Греция\n",
    "                 'Edinburgh':4.6,#Шотландия\n",
    "                 'Zurich':17.003, #Швейцария\n",
    "                 'Oporto':22.8,  #Португалия\n",
    "                 'Geneva':17.003,  #Швейцария\n",
    "                 'Krakow':18.4,  #Польша\n",
    "                 'Oslo':6.252,    #Норвегия\n",
    "                 'Helsinki':3.221,#Финляндия\n",
    "                 'Bratislava':5.415,#Словакия\n",
    "                 'Luxembourg':5.36,#\n",
    "                 'Ljubljana':4.425}#Словен"
   ]
  },
  {
   "cell_type": "code",
   "execution_count": 1340,
   "metadata": {},
   "outputs": [],
   "source": [
    "CT=[]\n",
    "for i in df['City']:\n",
    "    CT.append(country_tourism[i])\n",
    "df['Country Tourism']=CT"
   ]
  },
  {
   "cell_type": "markdown",
   "metadata": {},
   "source": [
    "Добавим столбец соотношения ретинга каждого ресторана с максимальным"
   ]
  },
  {
   "cell_type": "code",
   "execution_count": 1341,
   "metadata": {},
   "outputs": [],
   "source": [
    "lst=[]\n",
    "for i in df['Ranking']:\n",
    "    lst.append(df['Ranking'].max()/i)\n",
    "df['Ranring/MAXRanking']=lst"
   ]
  },
  {
   "cell_type": "code",
   "execution_count": 1342,
   "metadata": {},
   "outputs": [
    {
     "data": {
      "text/plain": [
       "Index(['Restaurant_id', 'City', 'Cuisine Style', 'Ranking', 'Rating',\n",
       "       'Price Range', 'Number of Reviews', 'Reviews', 'URL_TA', 'ID_TA',\n",
       "       'Count of Cuisine Style', 'Date_Count', 'Date_Count_Today',\n",
       "       'City_Population', 'City Mean Salary of year', 'Amsterdam', 'Athens',\n",
       "       'Barcelona', 'Berlin', 'Bratislava', 'Brussels', 'Budapest',\n",
       "       'Copenhagen', 'Dublin', 'Edinburgh', 'Geneva', 'Hamburg', 'Helsinki',\n",
       "       'Krakow', 'Lisbon', 'Ljubljana', 'London', 'Luxembourg', 'Lyon',\n",
       "       'Madrid', 'Milan', 'Munich', 'Oporto', 'Oslo', 'Paris', 'Prague',\n",
       "       'Rome', 'Stockholm', 'Vienna', 'Warsaw', 'Zurich', 'Price Range Low',\n",
       "       'Price Range Average', 'Price Range High', 'Country Unemployment',\n",
       "       'Country Tourism', 'Ranring/MAXRanking'],\n",
       "      dtype='object')"
      ]
     },
     "execution_count": 1342,
     "metadata": {},
     "output_type": "execute_result"
    }
   ],
   "source": [
    "df.columns"
   ]
  },
  {
   "cell_type": "markdown",
   "metadata": {},
   "source": [
    "Займёмся стандартизацией некоторых столбцов"
   ]
  },
  {
   "cell_type": "code",
   "execution_count": 1343,
   "metadata": {},
   "outputs": [],
   "source": [
    "from sklearn.preprocessing import StandardScaler"
   ]
  },
  {
   "cell_type": "code",
   "execution_count": 1344,
   "metadata": {},
   "outputs": [
    {
     "data": {
      "text/plain": [
       "array([[ 0.51068294,  1.58275926,  0.2417762 , -0.09446816],\n",
       "       [-0.57675915, -0.53675488, -0.40133373, -0.07417925],\n",
       "       [-0.89600821,  0.5051299 ,  1.96838656,  0.01980664],\n",
       "       ...,\n",
       "       [-0.54575101, -0.53675488, -0.42230471, -0.07612988],\n",
       "       [-0.81835303, -1.38456069, -0.19162397, -0.03501087],\n",
       "       [ 0.31034338, -0.83518219,  0.47245694, -0.09327797]])"
      ]
     },
     "execution_count": 1344,
     "metadata": {},
     "output_type": "execute_result"
    }
   ],
   "source": [
    "scaler = StandardScaler()\n",
    "scaler.fit_transform(df[['Ranking','City Mean Salary of year','Number of Reviews','Ranring/MAXRanking']])"
   ]
  },
  {
   "cell_type": "markdown",
   "metadata": {},
   "source": [
    "Удаляем столбцы типа Object"
   ]
  },
  {
   "cell_type": "code",
   "execution_count": 1345,
   "metadata": {},
   "outputs": [],
   "source": [
    "df=df.drop(['ID_TA','URL_TA','Reviews','Price Range','Cuisine Style', 'City','City'],axis=1)"
   ]
  },
  {
   "cell_type": "markdown",
   "metadata": {},
   "source": [
    "# Разбиваем датафрейм на части, необходимые для обучения и тестирования модели"
   ]
  },
  {
   "cell_type": "code",
   "execution_count": 1346,
   "metadata": {},
   "outputs": [],
   "source": [
    "# Х - данные с информацией о ресторанах, у - целевая переменная (рейтинги ресторанов)\n",
    "X = df.drop(['Restaurant_id', 'Rating'], axis = 1)\n",
    "y = df['Rating']"
   ]
  },
  {
   "cell_type": "code",
   "execution_count": 1347,
   "metadata": {},
   "outputs": [],
   "source": [
    "# Загружаем специальный инструмент для разбивки:\n",
    "from sklearn.model_selection import train_test_split"
   ]
  },
  {
   "cell_type": "code",
   "execution_count": 1348,
   "metadata": {},
   "outputs": [],
   "source": [
    "# Наборы данных с меткой \"train\" будут использоваться для обучения модели, \"test\" - для тестирования.\n",
    "# Для тестирования мы будем использовать 25% от исходного датасета.\n",
    "X_train, X_test, y_train, y_test = train_test_split(X, y, test_size=0.25)"
   ]
  },
  {
   "cell_type": "markdown",
   "metadata": {},
   "source": [
    "# Создаём, обучаем и тестируем модель"
   ]
  },
  {
   "cell_type": "code",
   "execution_count": 1349,
   "metadata": {},
   "outputs": [],
   "source": [
    "# Импортируем необходимые библиотеки:\n",
    "from sklearn.ensemble import RandomForestRegressor # инструмент для создания и обучения модели\n",
    "from sklearn import metrics # инструменты для оценки точности модели"
   ]
  },
  {
   "cell_type": "code",
   "execution_count": 1350,
   "metadata": {},
   "outputs": [],
   "source": [
    "# Создаём модель\n",
    "regr = RandomForestRegressor(n_estimators=100)\n",
    "\n",
    "# Обучаем модель на тестовом наборе данных\n",
    "regr.fit(X_train, y_train)\n",
    "\n",
    "# Используем обученную модель для предсказания рейтинга ресторанов в тестовой выборке.\n",
    "# Предсказанные значения записываем в переменную y_pred\n",
    "y_pred = regr.predict(X_test)"
   ]
  },
  {
   "cell_type": "code",
   "execution_count": 1351,
   "metadata": {},
   "outputs": [
    {
     "name": "stdout",
     "output_type": "stream",
     "text": [
      "MAE: 0.2101315\n"
     ]
    }
   ],
   "source": [
    "# Сравниваем предсказанные значения (y_pred) с реальными (y_test), и смотрим насколько они в среднем отличаются\n",
    "# Метрика называется Mean Absolute Error (MAE) и показывает среднее отклонение предсказанных значений от фактических.\n",
    "print('MAE:', metrics.mean_absolute_error(y_test, y_pred))"
   ]
  },
  {
   "cell_type": "code",
   "execution_count": null,
   "metadata": {},
   "outputs": [],
   "source": []
  },
  {
   "cell_type": "code",
   "execution_count": null,
   "metadata": {},
   "outputs": [],
   "source": []
  }
 ],
 "metadata": {
  "kernelspec": {
   "display_name": "Python 3",
   "language": "python",
   "name": "python3"
  }
 },
 "nbformat": 4,
 "nbformat_minor": 2
}
